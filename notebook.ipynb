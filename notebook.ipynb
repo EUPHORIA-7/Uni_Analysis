{
 "cells": [
  {
   "cell_type": "markdown",
   "id": "33dda299-ad0e-4262-b285-7d1297a3ba66",
   "metadata": {},
   "source": [
    "You have been asked to support an investment firm by analyzing trends in high-growth companies. They are interested in understanding which industries are producing the highest valuations and the rate at which new high-value companies are emerging. Providing them with this information gives them a competitive insight as to industry trends and how they should structure their portfolio looking forward.\n",
    "\n",
    "Your task is to first identify the three best-performing industries based on the number of new unicorns created in 2019, 2020, and 2021 combined.\n",
    "\n",
    "From those industries (1), you will need to find the number of unicorns within these industries (2), the year that they became a unicorn (3), and their average valuation, converted to billions of dollars and rounded to two decimal places (4).\n",
    "\n",
    "With the above information you can then finish your query to return a table containing industry, year, num_unicorns, and average_valuation_billions. For readability, the firm have asked you to sort your results by year and number of unicorns, both in descending order.\n",
    "\n",
    "You have been given access to their `unicorns` database, which contains the following tables:\n",
    "\n",
    "## dates\n",
    "| Column       | Description                                  |\n",
    "|------------- |--------------------------------------------- |\n",
    "| `company_id`   | A unique ID for the company.                 |\n",
    "| `date_joined` | The date that the company became a unicorn.  |\n",
    "| `year_founded` | The year that the company was founded.       |\n",
    "\n",
    "## funding\n",
    "| Column           | Description                                  |\n",
    "|----------------- |--------------------------------------------- |\n",
    "| `company_id`       | A unique ID for the company.                 |\n",
    "| `valuation`        | Company value in US dollars.                 |\n",
    "| `funding`          | The amount of funding raised in US dollars.  |\n",
    "| `select_investors` | A list of key investors in the company.      |\n",
    "\n",
    "## industries\n",
    "| Column       | Description                                  |\n",
    "|------------- |--------------------------------------------- |\n",
    "| `company_id`   | A unique ID for the company.                 |\n",
    "| `industry`     | The industry that the company operates in.   |\n",
    "\n",
    "## companies\n",
    "| Column       | Description                                       |\n",
    "|------------- |-------------------------------------------------- |\n",
    "| `company_id`   | A unique ID for the company.                      |\n",
    "| `company`      | The name of the company.                          |\n",
    "| `city`         | The city where the company is headquartered.      |\n",
    "| `country`      | The country where the company is headquartered.   |\n",
    "| `continent`    | The continent where the company is headquartered. |\n"
   ]
  },
  {
   "cell_type": "markdown",
   "id": "7ffe16da-297c-46ea-89a3-ad5a00fc5cf4",
   "metadata": {},
   "source": [
    "# Identifying the three industries with highest number of new unicorns in the years (2019-2021)"
   ]
  },
  {
   "cell_type": "code",
   "execution_count": 10,
   "id": "de50d056-54a7-4a5a-a938-6b437f4a90d6",
   "metadata": {
    "customType": "sql",
    "dataFrameVariableName": "df",
    "executionCancelledAt": null,
    "executionTime": 1142,
    "lastExecutedAt": 1744994966809,
    "lastExecutedByKernel": "bdd6bc13-bc59-4ad8-8611-130d634e7614",
    "lastScheduledRunId": null,
    "lastSuccessfullyExecutedCode": "\nWITH industry_unicorn_counts AS (\n    SELECT \n        i.industry,\n        COUNT(DISTINCT i.company_id) AS total_unicorns\n    FROM industries i\n    JOIN dates d ON i.company_id = d.company_id\n    WHERE EXTRACT(YEAR FROM d.date_joined) IN (2019, 2020, 2021)\n    GROUP BY i.industry\n    ORDER BY total_unicorns DESC\n    LIMIT 3\n)\nSELECT \n    industry,\n    total_unicorns AS \"Total New Unicorns (2019-2021)\"\nFROM industry_unicorn_counts;",
    "outputsMetadata": {
     "0": {
      "height": 500,
      "tableState": {},
      "type": "dataFrame"
     }
    },
    "sqlCellMode": "dataFrame",
    "sqlSource": {
     "integrationId": "89e17161-a224-4a8a-846b-0adc0fe7a4b1",
     "type": "integration"
    }
   },
   "outputs": [
    {
     "data": {
      "application/com.datacamp.data-table.v2+json": {
       "table": {
        "data": {
         "Total New Unicorns (2019-2021)": [
          173,
          152,
          75
         ],
         "index": [
          0,
          1,
          2
         ],
         "industry": [
          "Fintech",
          "Internet software & services",
          "E-commerce & direct-to-consumer"
         ]
        },
        "schema": {
         "fields": [
          {
           "name": "index",
           "type": "integer"
          },
          {
           "name": "industry",
           "type": "string"
          },
          {
           "name": "Total New Unicorns (2019-2021)",
           "type": "integer"
          }
         ],
         "pandas_version": "1.4.0",
         "primaryKey": [
          "index"
         ]
        }
       },
       "total_rows": 3,
       "truncation_type": null
      },
      "text/html": [
       "<div>\n",
       "<style scoped>\n",
       "    .dataframe tbody tr th:only-of-type {\n",
       "        vertical-align: middle;\n",
       "    }\n",
       "\n",
       "    .dataframe tbody tr th {\n",
       "        vertical-align: top;\n",
       "    }\n",
       "\n",
       "    .dataframe thead th {\n",
       "        text-align: right;\n",
       "    }\n",
       "</style>\n",
       "<table border=\"1\" class=\"dataframe\">\n",
       "  <thead>\n",
       "    <tr style=\"text-align: right;\">\n",
       "      <th></th>\n",
       "      <th>industry</th>\n",
       "      <th>Total New Unicorns (2019-2021)</th>\n",
       "    </tr>\n",
       "  </thead>\n",
       "  <tbody>\n",
       "    <tr>\n",
       "      <th>0</th>\n",
       "      <td>Fintech</td>\n",
       "      <td>173</td>\n",
       "    </tr>\n",
       "    <tr>\n",
       "      <th>1</th>\n",
       "      <td>Internet software &amp; services</td>\n",
       "      <td>152</td>\n",
       "    </tr>\n",
       "    <tr>\n",
       "      <th>2</th>\n",
       "      <td>E-commerce &amp; direct-to-consumer</td>\n",
       "      <td>75</td>\n",
       "    </tr>\n",
       "  </tbody>\n",
       "</table>\n",
       "</div>"
      ],
      "text/plain": [
       "                          industry  Total New Unicorns (2019-2021)\n",
       "0                          Fintech                             173\n",
       "1     Internet software & services                             152\n",
       "2  E-commerce & direct-to-consumer                              75"
      ]
     },
     "execution_count": 10,
     "metadata": {
      "application/com.datacamp.data-table.v2+json": {
       "status": "success"
      }
     },
     "output_type": "execute_result"
    }
   ],
   "source": [
    "\n",
    "WITH industry_unicorn_counts AS (\n",
    "    SELECT \n",
    "        i.industry,\n",
    "        COUNT(DISTINCT i.company_id) AS total_unicorns\n",
    "    FROM industries i\n",
    "    JOIN dates d ON i.company_id = d.company_id\n",
    "    WHERE EXTRACT(YEAR FROM d.date_joined) IN (2019, 2020, 2021)\n",
    "    GROUP BY i.industry\n",
    "    ORDER BY total_unicorns DESC\n",
    "    LIMIT 3\n",
    ")\n",
    "SELECT \n",
    "    industry,\n",
    "    total_unicorns AS \"Total New Unicorns (2019-2021)\"\n",
    "FROM industry_unicorn_counts;"
   ]
  },
  {
   "cell_type": "markdown",
   "id": "7db1a054-5558-4952-a59a-de52ea1c9e3d",
   "metadata": {},
   "source": [
    "# Year-by-year breakdown of unicorn creation in top industries"
   ]
  },
  {
   "cell_type": "code",
   "execution_count": 11,
   "id": "fbe061c2-e2eb-44e7-b001-b9d322ab262a",
   "metadata": {
    "customType": "sql",
    "dataFrameVariableName": "df1",
    "executionCancelledAt": null,
    "executionTime": 1081,
    "lastExecutedAt": 1744994967890,
    "lastExecutedByKernel": "bdd6bc13-bc59-4ad8-8611-130d634e7614",
    "lastScheduledRunId": null,
    "lastSuccessfullyExecutedCode": "WITH top_industries AS (\n    SELECT \n        i.industry\n    FROM industries i\n    JOIN dates d ON i.company_id = d.company_id\n    WHERE EXTRACT(YEAR FROM d.date_joined) IN (2019, 2020, 2021)\n    GROUP BY i.industry\n    ORDER BY COUNT(DISTINCT i.company_id) DESC\n    LIMIT 3\n),\nyearly_growth AS (\n    SELECT \n        i.industry,\n        EXTRACT(YEAR FROM d.date_joined) AS year,\n        COUNT(DISTINCT i.company_id) AS unicorns_created\n    FROM industries i\n    JOIN dates d ON i.company_id = d.company_id\n    WHERE i.industry IN (SELECT industry FROM top_industries)\n      AND EXTRACT(YEAR FROM d.date_joined) IN (2019, 2020, 2021)\n    GROUP BY i.industry, EXTRACT(YEAR FROM d.date_joined)\n    ORDER BY year, unicorns_created DESC\n)\nSELECT \n    industry,\n    year,\n    unicorns_created,\n    ROUND(100.0 * unicorns_created / SUM(unicorns_created) OVER (PARTITION BY industry), 2) AS \"Percentage of 3-Year Total\"\nFROM yearly_growth\nORDER BY year DESC, unicorns_created DESC;",
    "outputsMetadata": {
     "0": {
      "height": 500,
      "tableState": {},
      "type": "dataFrame"
     }
    },
    "sqlCellMode": "dataFrame",
    "sqlSource": {
     "integrationId": "89e17161-a224-4a8a-846b-0adc0fe7a4b1",
     "type": "integration"
    }
   },
   "outputs": [
    {
     "data": {
      "application/com.datacamp.data-table.v2+json": {
       "table": {
        "data": {
         "Percentage of 3-Year Total": [
          79.77,
          78.29,
          62.67,
          13.16,
          21.33,
          8.67,
          11.56,
          8.55,
          16
         ],
         "index": [
          0,
          1,
          2,
          3,
          4,
          5,
          6,
          7,
          8
         ],
         "industry": [
          "Fintech",
          "Internet software & services",
          "E-commerce & direct-to-consumer",
          "Internet software & services",
          "E-commerce & direct-to-consumer",
          "Fintech",
          "Fintech",
          "Internet software & services",
          "E-commerce & direct-to-consumer"
         ],
         "unicorns_created": [
          138,
          119,
          47,
          20,
          16,
          15,
          20,
          13,
          12
         ],
         "year": [
          2021,
          2021,
          2021,
          2020,
          2020,
          2020,
          2019,
          2019,
          2019
         ]
        },
        "schema": {
         "fields": [
          {
           "name": "index",
           "type": "integer"
          },
          {
           "name": "industry",
           "type": "string"
          },
          {
           "name": "year",
           "type": "integer"
          },
          {
           "name": "unicorns_created",
           "type": "integer"
          },
          {
           "name": "Percentage of 3-Year Total",
           "type": "number"
          }
         ],
         "pandas_version": "1.4.0",
         "primaryKey": [
          "index"
         ]
        }
       },
       "total_rows": 9,
       "truncation_type": null
      },
      "text/html": [
       "<div>\n",
       "<style scoped>\n",
       "    .dataframe tbody tr th:only-of-type {\n",
       "        vertical-align: middle;\n",
       "    }\n",
       "\n",
       "    .dataframe tbody tr th {\n",
       "        vertical-align: top;\n",
       "    }\n",
       "\n",
       "    .dataframe thead th {\n",
       "        text-align: right;\n",
       "    }\n",
       "</style>\n",
       "<table border=\"1\" class=\"dataframe\">\n",
       "  <thead>\n",
       "    <tr style=\"text-align: right;\">\n",
       "      <th></th>\n",
       "      <th>industry</th>\n",
       "      <th>year</th>\n",
       "      <th>unicorns_created</th>\n",
       "      <th>Percentage of 3-Year Total</th>\n",
       "    </tr>\n",
       "  </thead>\n",
       "  <tbody>\n",
       "    <tr>\n",
       "      <th>0</th>\n",
       "      <td>Fintech</td>\n",
       "      <td>2021</td>\n",
       "      <td>138</td>\n",
       "      <td>79.77</td>\n",
       "    </tr>\n",
       "    <tr>\n",
       "      <th>1</th>\n",
       "      <td>Internet software &amp; services</td>\n",
       "      <td>2021</td>\n",
       "      <td>119</td>\n",
       "      <td>78.29</td>\n",
       "    </tr>\n",
       "    <tr>\n",
       "      <th>2</th>\n",
       "      <td>E-commerce &amp; direct-to-consumer</td>\n",
       "      <td>2021</td>\n",
       "      <td>47</td>\n",
       "      <td>62.67</td>\n",
       "    </tr>\n",
       "    <tr>\n",
       "      <th>3</th>\n",
       "      <td>Internet software &amp; services</td>\n",
       "      <td>2020</td>\n",
       "      <td>20</td>\n",
       "      <td>13.16</td>\n",
       "    </tr>\n",
       "    <tr>\n",
       "      <th>4</th>\n",
       "      <td>E-commerce &amp; direct-to-consumer</td>\n",
       "      <td>2020</td>\n",
       "      <td>16</td>\n",
       "      <td>21.33</td>\n",
       "    </tr>\n",
       "    <tr>\n",
       "      <th>5</th>\n",
       "      <td>Fintech</td>\n",
       "      <td>2020</td>\n",
       "      <td>15</td>\n",
       "      <td>8.67</td>\n",
       "    </tr>\n",
       "    <tr>\n",
       "      <th>6</th>\n",
       "      <td>Fintech</td>\n",
       "      <td>2019</td>\n",
       "      <td>20</td>\n",
       "      <td>11.56</td>\n",
       "    </tr>\n",
       "    <tr>\n",
       "      <th>7</th>\n",
       "      <td>Internet software &amp; services</td>\n",
       "      <td>2019</td>\n",
       "      <td>13</td>\n",
       "      <td>8.55</td>\n",
       "    </tr>\n",
       "    <tr>\n",
       "      <th>8</th>\n",
       "      <td>E-commerce &amp; direct-to-consumer</td>\n",
       "      <td>2019</td>\n",
       "      <td>12</td>\n",
       "      <td>16.00</td>\n",
       "    </tr>\n",
       "  </tbody>\n",
       "</table>\n",
       "</div>"
      ],
      "text/plain": [
       "                          industry  ...  Percentage of 3-Year Total\n",
       "0                          Fintech  ...                       79.77\n",
       "1     Internet software & services  ...                       78.29\n",
       "2  E-commerce & direct-to-consumer  ...                       62.67\n",
       "3     Internet software & services  ...                       13.16\n",
       "4  E-commerce & direct-to-consumer  ...                       21.33\n",
       "5                          Fintech  ...                        8.67\n",
       "6                          Fintech  ...                       11.56\n",
       "7     Internet software & services  ...                        8.55\n",
       "8  E-commerce & direct-to-consumer  ...                       16.00\n",
       "\n",
       "[9 rows x 4 columns]"
      ]
     },
     "execution_count": 11,
     "metadata": {
      "application/com.datacamp.data-table.v2+json": {
       "status": "success"
      }
     },
     "output_type": "execute_result"
    }
   ],
   "source": [
    "WITH top_industries AS (\n",
    "    SELECT \n",
    "        i.industry\n",
    "    FROM industries i\n",
    "    JOIN dates d ON i.company_id = d.company_id\n",
    "    WHERE EXTRACT(YEAR FROM d.date_joined) IN (2019, 2020, 2021)\n",
    "    GROUP BY i.industry\n",
    "    ORDER BY COUNT(DISTINCT i.company_id) DESC\n",
    "    LIMIT 3\n",
    "),\n",
    "yearly_growth AS (\n",
    "    SELECT \n",
    "        i.industry,\n",
    "        EXTRACT(YEAR FROM d.date_joined) AS year,\n",
    "        COUNT(DISTINCT i.company_id) AS unicorns_created\n",
    "    FROM industries i\n",
    "    JOIN dates d ON i.company_id = d.company_id\n",
    "    WHERE i.industry IN (SELECT industry FROM top_industries)\n",
    "      AND EXTRACT(YEAR FROM d.date_joined) IN (2019, 2020, 2021)\n",
    "    GROUP BY i.industry, EXTRACT(YEAR FROM d.date_joined)\n",
    "    ORDER BY year, unicorns_created DESC\n",
    ")\n",
    "SELECT \n",
    "    industry,\n",
    "    year,\n",
    "    unicorns_created,\n",
    "    ROUND(100.0 * unicorns_created / SUM(unicorns_created) OVER (PARTITION BY industry), 2) AS \"Percentage of 3-Year Total\"\n",
    "FROM yearly_growth\n",
    "ORDER BY year DESC, unicorns_created DESC;"
   ]
  },
  {
   "cell_type": "markdown",
   "id": "7e9c9e63-1045-4837-88d2-d98aa5726f22",
   "metadata": {},
   "source": [
    "# Valuation analysis for top industries by year"
   ]
  },
  {
   "cell_type": "code",
   "execution_count": 12,
   "id": "56873be8-2e3d-4589-8bc2-92ae31623269",
   "metadata": {
    "customType": "sql",
    "dataFrameVariableName": "df2",
    "executionCancelledAt": null,
    "executionTime": 1119,
    "lastExecutedAt": 1744994969009,
    "lastExecutedByKernel": "bdd6bc13-bc59-4ad8-8611-130d634e7614",
    "lastScheduledRunId": null,
    "lastSuccessfullyExecutedCode": "WITH top_industries AS (\n    SELECT \n        i.industry\n    FROM industries i\n    JOIN dates d ON i.company_id = d.company_id\n    WHERE EXTRACT(YEAR FROM d.date_joined) IN (2019, 2020, 2021)\n    GROUP BY i.industry\n    ORDER BY COUNT(DISTINCT i.company_id) DESC\n    LIMIT 3\n),\nvaluation_stats AS (\n    SELECT \n        i.industry,\n        EXTRACT(YEAR FROM d.date_joined) AS year,\n        COUNT(DISTINCT i.company_id) AS num_unicorns,\n        ROUND(AVG(f.valuation/1000000000.0), 2) AS average_valuation_billions,\n        ROUND(MIN(f.valuation/1000000000.0), 2) AS min_valuation_billions,\n        ROUND(MAX(f.valuation/1000000000.0), 2) AS max_valuation_billions,\n        ROUND(STDDEV(f.valuation/1000000000.0), 2) AS stddev_valuation_billions\n    FROM industries i\n    JOIN dates d ON i.company_id = d.company_id\n    JOIN funding f ON i.company_id = f.company_id\n    WHERE i.industry IN (SELECT industry FROM top_industries)\n      AND EXTRACT(YEAR FROM d.date_joined) IN (2019, 2020, 2021)\n    GROUP BY i.industry, EXTRACT(YEAR FROM d.date_joined)\n)\nSELECT \n    industry,\n    year,\n    num_unicorns,\n    average_valuation_billions,\n    min_valuation_billions,\n    max_valuation_billions,\n    stddev_valuation_billions\nFROM valuation_stats\nORDER BY year DESC, num_unicorns DESC;",
    "outputsMetadata": {
     "0": {
      "height": 500,
      "tableState": {},
      "type": "dataFrame"
     }
    },
    "sqlCellMode": "dataFrame",
    "sqlSource": {
     "integrationId": "89e17161-a224-4a8a-846b-0adc0fe7a4b1",
     "type": "integration"
    }
   },
   "outputs": [
    {
     "data": {
      "application/com.datacamp.data-table.v2+json": {
       "table": {
        "data": {
         "average_valuation_billions": [
          2.75,
          2.15,
          2.47,
          4.35,
          4,
          4.33,
          6.8,
          4.23,
          2.58
         ],
         "index": [
          0,
          1,
          2,
          3,
          4,
          5,
          6,
          7,
          8
         ],
         "industry": [
          "Fintech",
          "Internet software & services",
          "E-commerce & direct-to-consumer",
          "Internet software & services",
          "E-commerce & direct-to-consumer",
          "Fintech",
          "Fintech",
          "Internet software & services",
          "E-commerce & direct-to-consumer"
         ],
         "max_valuation_billions": [
          32,
          12,
          13,
          10,
          15,
          8,
          40,
          13,
          5
         ],
         "min_valuation_billions": [
          1,
          1,
          1,
          1,
          1,
          1,
          1,
          1,
          1
         ],
         "num_unicorns": [
          138,
          119,
          47,
          20,
          16,
          15,
          20,
          13,
          12
         ],
         "stddev_valuation_billions": [
          3.41,
          1.55,
          2.47,
          3.01,
          4.27,
          2.41,
          9.87,
          3.32,
          1.56
         ],
         "year": [
          2021,
          2021,
          2021,
          2020,
          2020,
          2020,
          2019,
          2019,
          2019
         ]
        },
        "schema": {
         "fields": [
          {
           "name": "index",
           "type": "integer"
          },
          {
           "name": "industry",
           "type": "string"
          },
          {
           "name": "year",
           "type": "integer"
          },
          {
           "name": "num_unicorns",
           "type": "integer"
          },
          {
           "name": "average_valuation_billions",
           "type": "number"
          },
          {
           "name": "min_valuation_billions",
           "type": "number"
          },
          {
           "name": "max_valuation_billions",
           "type": "number"
          },
          {
           "name": "stddev_valuation_billions",
           "type": "number"
          }
         ],
         "pandas_version": "1.4.0",
         "primaryKey": [
          "index"
         ]
        }
       },
       "total_rows": 9,
       "truncation_type": null
      },
      "text/html": [
       "<div>\n",
       "<style scoped>\n",
       "    .dataframe tbody tr th:only-of-type {\n",
       "        vertical-align: middle;\n",
       "    }\n",
       "\n",
       "    .dataframe tbody tr th {\n",
       "        vertical-align: top;\n",
       "    }\n",
       "\n",
       "    .dataframe thead th {\n",
       "        text-align: right;\n",
       "    }\n",
       "</style>\n",
       "<table border=\"1\" class=\"dataframe\">\n",
       "  <thead>\n",
       "    <tr style=\"text-align: right;\">\n",
       "      <th></th>\n",
       "      <th>industry</th>\n",
       "      <th>year</th>\n",
       "      <th>num_unicorns</th>\n",
       "      <th>average_valuation_billions</th>\n",
       "      <th>min_valuation_billions</th>\n",
       "      <th>max_valuation_billions</th>\n",
       "      <th>stddev_valuation_billions</th>\n",
       "    </tr>\n",
       "  </thead>\n",
       "  <tbody>\n",
       "    <tr>\n",
       "      <th>0</th>\n",
       "      <td>Fintech</td>\n",
       "      <td>2021</td>\n",
       "      <td>138</td>\n",
       "      <td>2.75</td>\n",
       "      <td>1.0</td>\n",
       "      <td>32.0</td>\n",
       "      <td>3.41</td>\n",
       "    </tr>\n",
       "    <tr>\n",
       "      <th>1</th>\n",
       "      <td>Internet software &amp; services</td>\n",
       "      <td>2021</td>\n",
       "      <td>119</td>\n",
       "      <td>2.15</td>\n",
       "      <td>1.0</td>\n",
       "      <td>12.0</td>\n",
       "      <td>1.55</td>\n",
       "    </tr>\n",
       "    <tr>\n",
       "      <th>2</th>\n",
       "      <td>E-commerce &amp; direct-to-consumer</td>\n",
       "      <td>2021</td>\n",
       "      <td>47</td>\n",
       "      <td>2.47</td>\n",
       "      <td>1.0</td>\n",
       "      <td>13.0</td>\n",
       "      <td>2.47</td>\n",
       "    </tr>\n",
       "    <tr>\n",
       "      <th>3</th>\n",
       "      <td>Internet software &amp; services</td>\n",
       "      <td>2020</td>\n",
       "      <td>20</td>\n",
       "      <td>4.35</td>\n",
       "      <td>1.0</td>\n",
       "      <td>10.0</td>\n",
       "      <td>3.01</td>\n",
       "    </tr>\n",
       "    <tr>\n",
       "      <th>4</th>\n",
       "      <td>E-commerce &amp; direct-to-consumer</td>\n",
       "      <td>2020</td>\n",
       "      <td>16</td>\n",
       "      <td>4.00</td>\n",
       "      <td>1.0</td>\n",
       "      <td>15.0</td>\n",
       "      <td>4.27</td>\n",
       "    </tr>\n",
       "    <tr>\n",
       "      <th>5</th>\n",
       "      <td>Fintech</td>\n",
       "      <td>2020</td>\n",
       "      <td>15</td>\n",
       "      <td>4.33</td>\n",
       "      <td>1.0</td>\n",
       "      <td>8.0</td>\n",
       "      <td>2.41</td>\n",
       "    </tr>\n",
       "    <tr>\n",
       "      <th>6</th>\n",
       "      <td>Fintech</td>\n",
       "      <td>2019</td>\n",
       "      <td>20</td>\n",
       "      <td>6.80</td>\n",
       "      <td>1.0</td>\n",
       "      <td>40.0</td>\n",
       "      <td>9.87</td>\n",
       "    </tr>\n",
       "    <tr>\n",
       "      <th>7</th>\n",
       "      <td>Internet software &amp; services</td>\n",
       "      <td>2019</td>\n",
       "      <td>13</td>\n",
       "      <td>4.23</td>\n",
       "      <td>1.0</td>\n",
       "      <td>13.0</td>\n",
       "      <td>3.32</td>\n",
       "    </tr>\n",
       "    <tr>\n",
       "      <th>8</th>\n",
       "      <td>E-commerce &amp; direct-to-consumer</td>\n",
       "      <td>2019</td>\n",
       "      <td>12</td>\n",
       "      <td>2.58</td>\n",
       "      <td>1.0</td>\n",
       "      <td>5.0</td>\n",
       "      <td>1.56</td>\n",
       "    </tr>\n",
       "  </tbody>\n",
       "</table>\n",
       "</div>"
      ],
      "text/plain": [
       "                          industry  ...  stddev_valuation_billions\n",
       "0                          Fintech  ...                       3.41\n",
       "1     Internet software & services  ...                       1.55\n",
       "2  E-commerce & direct-to-consumer  ...                       2.47\n",
       "3     Internet software & services  ...                       3.01\n",
       "4  E-commerce & direct-to-consumer  ...                       4.27\n",
       "5                          Fintech  ...                       2.41\n",
       "6                          Fintech  ...                       9.87\n",
       "7     Internet software & services  ...                       3.32\n",
       "8  E-commerce & direct-to-consumer  ...                       1.56\n",
       "\n",
       "[9 rows x 7 columns]"
      ]
     },
     "execution_count": 12,
     "metadata": {
      "application/com.datacamp.data-table.v2+json": {
       "status": "success"
      }
     },
     "output_type": "execute_result"
    }
   ],
   "source": [
    "WITH top_industries AS (\n",
    "    SELECT \n",
    "        i.industry\n",
    "    FROM industries i\n",
    "    JOIN dates d ON i.company_id = d.company_id\n",
    "    WHERE EXTRACT(YEAR FROM d.date_joined) IN (2019, 2020, 2021)\n",
    "    GROUP BY i.industry\n",
    "    ORDER BY COUNT(DISTINCT i.company_id) DESC\n",
    "    LIMIT 3\n",
    "),\n",
    "valuation_stats AS (\n",
    "    SELECT \n",
    "        i.industry,\n",
    "        EXTRACT(YEAR FROM d.date_joined) AS year,\n",
    "        COUNT(DISTINCT i.company_id) AS num_unicorns,\n",
    "        ROUND(AVG(f.valuation/1000000000.0), 2) AS average_valuation_billions,\n",
    "        ROUND(MIN(f.valuation/1000000000.0), 2) AS min_valuation_billions,\n",
    "        ROUND(MAX(f.valuation/1000000000.0), 2) AS max_valuation_billions,\n",
    "        ROUND(STDDEV(f.valuation/1000000000.0), 2) AS stddev_valuation_billions\n",
    "    FROM industries i\n",
    "    JOIN dates d ON i.company_id = d.company_id\n",
    "    JOIN funding f ON i.company_id = f.company_id\n",
    "    WHERE i.industry IN (SELECT industry FROM top_industries)\n",
    "      AND EXTRACT(YEAR FROM d.date_joined) IN (2019, 2020, 2021)\n",
    "    GROUP BY i.industry, EXTRACT(YEAR FROM d.date_joined)\n",
    ")\n",
    "SELECT \n",
    "    industry,\n",
    "    year,\n",
    "    num_unicorns,\n",
    "    average_valuation_billions,\n",
    "    min_valuation_billions,\n",
    "    max_valuation_billions,\n",
    "    stddev_valuation_billions\n",
    "FROM valuation_stats\n",
    "ORDER BY year DESC, num_unicorns DESC;"
   ]
  },
  {
   "cell_type": "markdown",
   "id": "fcb6f419-e725-4b1a-a916-e954ce7492c9",
   "metadata": {},
   "source": [
    "# Industry performance metrics by year"
   ]
  },
  {
   "cell_type": "code",
   "execution_count": 13,
   "id": "bc429dbd-e0e6-4a04-91d8-b5df8df76b36",
   "metadata": {
    "customType": "sql",
    "dataFrameVariableName": "df3",
    "executionCancelledAt": null,
    "executionTime": 1230,
    "lastExecutedAt": 1744994970239,
    "lastExecutedByKernel": "bdd6bc13-bc59-4ad8-8611-130d634e7614",
    "lastScheduledRunId": null,
    "lastSuccessfullyExecutedCode": "WITH top_industries AS (\n    SELECT \n        i.industry\n    FROM industries i\n    JOIN dates d ON i.company_id = d.company_id\n    WHERE EXTRACT(YEAR FROM d.date_joined) IN (2019, 2020, 2021)\n    GROUP BY i.industry\n    ORDER BY COUNT(DISTINCT i.company_id) DESC\n    LIMIT 3\n)\n\nSELECT \n    i.industry,\n    EXTRACT(YEAR FROM d.date_joined)::INTEGER AS year,\n    COUNT(DISTINCT i.company_id) AS num_unicorns,\n    ROUND(AVG(f.valuation/1000000000.0), 2) AS average_valuation_billions\nFROM industries i\nJOIN dates d ON i.company_id = d.company_id\nJOIN funding f ON i.company_id = f.company_id\nWHERE i.industry IN (SELECT industry FROM top_industries)\n  AND EXTRACT(YEAR FROM d.date_joined) IN (2019, 2020, 2021)\nGROUP BY i.industry, EXTRACT(YEAR FROM d.date_joined)\nORDER BY year DESC, num_unicorns DESC;",
    "outputsMetadata": {
     "0": {
      "height": 644,
      "tableState": {
       "customFilter": {
        "const": {
         "type": "boolean",
         "valid": true,
         "value": true
        },
        "id": "388c0e83-e8ab-4d8a-953c-857454fed36c",
        "nodeType": "const"
       }
      },
      "type": "dataFrame"
     }
    },
    "sqlCellMode": "dataFrame",
    "sqlSource": {
     "integrationId": "89e17161-a224-4a8a-846b-0adc0fe7a4b1",
     "type": "integration"
    }
   },
   "outputs": [
    {
     "data": {
      "application/com.datacamp.data-table.v2+json": {
       "table": {
        "data": {
         "average_valuation_billions": [
          2.75,
          2.15,
          2.47,
          4.35,
          4,
          4.33,
          6.8,
          4.23,
          2.58
         ],
         "index": [
          0,
          1,
          2,
          3,
          4,
          5,
          6,
          7,
          8
         ],
         "industry": [
          "Fintech",
          "Internet software & services",
          "E-commerce & direct-to-consumer",
          "Internet software & services",
          "E-commerce & direct-to-consumer",
          "Fintech",
          "Fintech",
          "Internet software & services",
          "E-commerce & direct-to-consumer"
         ],
         "num_unicorns": [
          138,
          119,
          47,
          20,
          16,
          15,
          20,
          13,
          12
         ],
         "year": [
          2021,
          2021,
          2021,
          2020,
          2020,
          2020,
          2019,
          2019,
          2019
         ]
        },
        "schema": {
         "fields": [
          {
           "name": "index",
           "type": "integer"
          },
          {
           "name": "industry",
           "type": "string"
          },
          {
           "name": "year",
           "type": "integer"
          },
          {
           "name": "num_unicorns",
           "type": "integer"
          },
          {
           "name": "average_valuation_billions",
           "type": "number"
          }
         ],
         "pandas_version": "1.4.0",
         "primaryKey": [
          "index"
         ]
        }
       },
       "total_rows": 9,
       "truncation_type": null
      },
      "text/html": [
       "<div>\n",
       "<style scoped>\n",
       "    .dataframe tbody tr th:only-of-type {\n",
       "        vertical-align: middle;\n",
       "    }\n",
       "\n",
       "    .dataframe tbody tr th {\n",
       "        vertical-align: top;\n",
       "    }\n",
       "\n",
       "    .dataframe thead th {\n",
       "        text-align: right;\n",
       "    }\n",
       "</style>\n",
       "<table border=\"1\" class=\"dataframe\">\n",
       "  <thead>\n",
       "    <tr style=\"text-align: right;\">\n",
       "      <th></th>\n",
       "      <th>industry</th>\n",
       "      <th>year</th>\n",
       "      <th>num_unicorns</th>\n",
       "      <th>average_valuation_billions</th>\n",
       "    </tr>\n",
       "  </thead>\n",
       "  <tbody>\n",
       "    <tr>\n",
       "      <th>0</th>\n",
       "      <td>Fintech</td>\n",
       "      <td>2021</td>\n",
       "      <td>138</td>\n",
       "      <td>2.75</td>\n",
       "    </tr>\n",
       "    <tr>\n",
       "      <th>1</th>\n",
       "      <td>Internet software &amp; services</td>\n",
       "      <td>2021</td>\n",
       "      <td>119</td>\n",
       "      <td>2.15</td>\n",
       "    </tr>\n",
       "    <tr>\n",
       "      <th>2</th>\n",
       "      <td>E-commerce &amp; direct-to-consumer</td>\n",
       "      <td>2021</td>\n",
       "      <td>47</td>\n",
       "      <td>2.47</td>\n",
       "    </tr>\n",
       "    <tr>\n",
       "      <th>3</th>\n",
       "      <td>Internet software &amp; services</td>\n",
       "      <td>2020</td>\n",
       "      <td>20</td>\n",
       "      <td>4.35</td>\n",
       "    </tr>\n",
       "    <tr>\n",
       "      <th>4</th>\n",
       "      <td>E-commerce &amp; direct-to-consumer</td>\n",
       "      <td>2020</td>\n",
       "      <td>16</td>\n",
       "      <td>4.00</td>\n",
       "    </tr>\n",
       "    <tr>\n",
       "      <th>5</th>\n",
       "      <td>Fintech</td>\n",
       "      <td>2020</td>\n",
       "      <td>15</td>\n",
       "      <td>4.33</td>\n",
       "    </tr>\n",
       "    <tr>\n",
       "      <th>6</th>\n",
       "      <td>Fintech</td>\n",
       "      <td>2019</td>\n",
       "      <td>20</td>\n",
       "      <td>6.80</td>\n",
       "    </tr>\n",
       "    <tr>\n",
       "      <th>7</th>\n",
       "      <td>Internet software &amp; services</td>\n",
       "      <td>2019</td>\n",
       "      <td>13</td>\n",
       "      <td>4.23</td>\n",
       "    </tr>\n",
       "    <tr>\n",
       "      <th>8</th>\n",
       "      <td>E-commerce &amp; direct-to-consumer</td>\n",
       "      <td>2019</td>\n",
       "      <td>12</td>\n",
       "      <td>2.58</td>\n",
       "    </tr>\n",
       "  </tbody>\n",
       "</table>\n",
       "</div>"
      ],
      "text/plain": [
       "                          industry  ...  average_valuation_billions\n",
       "0                          Fintech  ...                        2.75\n",
       "1     Internet software & services  ...                        2.15\n",
       "2  E-commerce & direct-to-consumer  ...                        2.47\n",
       "3     Internet software & services  ...                        4.35\n",
       "4  E-commerce & direct-to-consumer  ...                        4.00\n",
       "5                          Fintech  ...                        4.33\n",
       "6                          Fintech  ...                        6.80\n",
       "7     Internet software & services  ...                        4.23\n",
       "8  E-commerce & direct-to-consumer  ...                        2.58\n",
       "\n",
       "[9 rows x 4 columns]"
      ]
     },
     "execution_count": 13,
     "metadata": {
      "application/com.datacamp.data-table.v2+json": {
       "status": "success"
      }
     },
     "output_type": "execute_result"
    }
   ],
   "source": [
    "WITH top_industries AS (\n",
    "    SELECT \n",
    "        i.industry\n",
    "    FROM industries i\n",
    "    JOIN dates d ON i.company_id = d.company_id\n",
    "    WHERE EXTRACT(YEAR FROM d.date_joined) IN (2019, 2020, 2021)\n",
    "    GROUP BY i.industry\n",
    "    ORDER BY COUNT(DISTINCT i.company_id) DESC\n",
    "    LIMIT 3\n",
    ")\n",
    "\n",
    "SELECT \n",
    "    i.industry,\n",
    "    EXTRACT(YEAR FROM d.date_joined)::INTEGER AS year,\n",
    "    COUNT(DISTINCT i.company_id) AS num_unicorns,\n",
    "    ROUND(AVG(f.valuation/1000000000.0), 2) AS average_valuation_billions\n",
    "FROM industries i\n",
    "JOIN dates d ON i.company_id = d.company_id\n",
    "JOIN funding f ON i.company_id = f.company_id\n",
    "WHERE i.industry IN (SELECT industry FROM top_industries)\n",
    "  AND EXTRACT(YEAR FROM d.date_joined) IN (2019, 2020, 2021)\n",
    "GROUP BY i.industry, EXTRACT(YEAR FROM d.date_joined)\n",
    "ORDER BY year DESC, num_unicorns DESC;"
   ]
  }
 ],
 "metadata": {
  "colab": {
   "name": "Welcome to DataCamp Workspaces.ipynb",
   "provenance": []
  },
  "kernelspec": {
   "display_name": "Python 3 (ipykernel)",
   "language": "python",
   "name": "python3"
  },
  "language_info": {
   "codemirror_mode": {
    "name": "ipython",
    "version": 3
   },
   "file_extension": ".py",
   "mimetype": "text/x-python",
   "name": "python",
   "nbconvert_exporter": "python",
   "pygments_lexer": "ipython3",
   "version": "3.8.10"
  }
 },
 "nbformat": 4,
 "nbformat_minor": 5
}
